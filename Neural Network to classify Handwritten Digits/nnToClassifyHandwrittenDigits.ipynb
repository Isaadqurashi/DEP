{
 "cells": [
  {
   "cell_type": "markdown",
   "metadata": {},
   "source": [
    "# Simple MNIST Neural Network (NN) from scratch\n",
    "\n",
    "In this notebook, I implemented a simple two-layer neural network and trained it on the MNIST digit recognizer dataset. It's meant to be an instructional example, through which you can understand the underlying math of neural networks better.\n",
    "\n",
    "**Author:** Saad Khurshid Qurashi"
   ]
  },
  {
   "cell_type": "code",
   "execution_count": 3,
   "metadata": {},
   "outputs": [],
   "source": [
    "import numpy as np\n",
    "import pandas as pd\n",
    "from matplotlib import pyplot as plt\n",
    "\n",
    "data = pd.read_csv('train.csv')"
   ]
  },
  {
   "cell_type": "code",
   "execution_count": 4,
   "metadata": {},
   "outputs": [],
   "source": [
    "data = np.array(data)\n",
    "m, n = data.shape\n",
    "np.random.shuffle(data) # shuffle before splitting into dev and training sets\n",
    "\n",
    "data_dev = data[0:1000].T\n",
    "Y_dev = data_dev[0]\n",
    "X_dev = data_dev[1:n]\n",
    "X_dev = X_dev / 255.\n",
    "\n",
    "data_train = data[1000:m].T\n",
    "Y_train = data_train[0]\n",
    "X_train = data_train[1:n]\n",
    "X_train = X_train / 255.\n",
    "_,m_train = X_train.shape"
   ]
  },
  {
   "cell_type": "code",
   "execution_count": 5,
   "metadata": {},
   "outputs": [
    {
     "data": {
      "text/plain": [
       "array([0, 9, 9, ..., 3, 5, 6])"
      ]
     },
     "execution_count": 5,
     "metadata": {},
     "output_type": "execute_result"
    }
   ],
   "source": [
    "Y_train"
   ]
  },
  {
   "cell_type": "code",
   "execution_count": 6,
   "metadata": {},
   "outputs": [],
   "source": [
    "def init_params():\n",
    "    W1 = np.random.rand(10, 784) - 0.5\n",
    "    b1 = np.random.rand(10, 1) - 0.5\n",
    "    W2 = np.random.rand(10, 10) - 0.5\n",
    "    b2 = np.random.rand(10, 1) - 0.5\n",
    "    return W1, b1, W2, b2\n",
    "\n",
    "def ReLU(Z):\n",
    "    return np.maximum(Z, 0)\n",
    "\n",
    "def softmax(Z):\n",
    "    A = np.exp(Z) / sum(np.exp(Z))\n",
    "    return A\n",
    "    \n",
    "def forward_prop(W1, b1, W2, b2, X):\n",
    "    Z1 = W1.dot(X) + b1\n",
    "    A1 = ReLU(Z1)\n",
    "    Z2 = W2.dot(A1) + b2\n",
    "    A2 = softmax(Z2)\n",
    "    return Z1, A1, Z2, A2\n",
    "\n",
    "def ReLU_deriv(Z):\n",
    "    return Z > 0\n",
    "\n",
    "def one_hot(Y):\n",
    "    one_hot_Y = np.zeros((Y.size, Y.max() + 1))\n",
    "    one_hot_Y[np.arange(Y.size), Y] = 1\n",
    "    one_hot_Y = one_hot_Y.T\n",
    "    return one_hot_Y\n",
    "\n",
    "def backward_prop(Z1, A1, Z2, A2, W1, W2, X, Y):\n",
    "    one_hot_Y = one_hot(Y)\n",
    "    dZ2 = A2 - one_hot_Y\n",
    "    dW2 = 1 / m * dZ2.dot(A1.T)\n",
    "    db2 = 1 / m * np.sum(dZ2)\n",
    "    dZ1 = W2.T.dot(dZ2) * ReLU_deriv(Z1)\n",
    "    dW1 = 1 / m * dZ1.dot(X.T)\n",
    "    db1 = 1 / m * np.sum(dZ1)\n",
    "    return dW1, db1, dW2, db2\n",
    "\n",
    "def update_params(W1, b1, W2, b2, dW1, db1, dW2, db2, alpha):\n",
    "    W1 = W1 - alpha * dW1\n",
    "    b1 = b1 - alpha * db1    \n",
    "    W2 = W2 - alpha * dW2  \n",
    "    b2 = b2 - alpha * db2    \n",
    "    return W1, b1, W2, b2"
   ]
  },
  {
   "cell_type": "code",
   "execution_count": 8,
   "metadata": {},
   "outputs": [],
   "source": [
    "def get_predictions(A2):\n",
    "    return np.argmax(A2, 0)\n",
    "\n",
    "def get_accuracy(predictions, Y):\n",
    "    print(predictions, Y)\n",
    "    return np.sum(predictions == Y) / Y.size\n",
    "\n",
    "def gradient_descent(X, Y, alpha, iterations):\n",
    "    W1, b1, W2, b2 = init_params()\n",
    "    for i in range(iterations):\n",
    "        Z1, A1, Z2, A2 = forward_prop(W1, b1, W2, b2, X)\n",
    "        dW1, db1, dW2, db2 = backward_prop(Z1, A1, Z2, A2, W1, W2, X, Y)\n",
    "        W1, b1, W2, b2 = update_params(W1, b1, W2, b2, dW1, db1, dW2, db2, alpha)\n",
    "        if i % 10 == 0:\n",
    "            print(\"Iteration: \", i)\n",
    "            predictions = get_predictions(A2)\n",
    "            print(get_accuracy(predictions, Y))\n",
    "    return W1, b1, W2, b2"
   ]
  },
  {
   "cell_type": "code",
   "execution_count": 9,
   "metadata": {},
   "outputs": [
    {
     "name": "stdout",
     "output_type": "stream",
     "text": [
      "Iteration:  0\n",
      "[3 5 5 ... 3 3 5] [0 9 9 ... 3 5 6]\n",
      "0.10378048780487804\n",
      "Iteration:  10\n",
      "[3 4 4 ... 4 0 8] [0 9 9 ... 3 5 6]\n",
      "0.21017073170731707\n",
      "Iteration:  20\n",
      "[3 4 4 ... 4 0 8] [0 9 9 ... 3 5 6]\n",
      "0.2972439024390244\n",
      "Iteration:  30\n",
      "[3 4 4 ... 3 0 8] [0 9 9 ... 3 5 6]\n",
      "0.3962926829268293\n",
      "Iteration:  40\n",
      "[0 4 4 ... 3 0 8] [0 9 9 ... 3 5 6]\n",
      "0.4722195121951219\n",
      "Iteration:  50\n",
      "[0 4 4 ... 3 0 8] [0 9 9 ... 3 5 6]\n",
      "0.5220731707317073\n",
      "Iteration:  60\n",
      "[0 4 4 ... 3 5 8] [0 9 9 ... 3 5 6]\n",
      "0.5619756097560976\n",
      "Iteration:  70\n",
      "[0 4 4 ... 3 5 8] [0 9 9 ... 3 5 6]\n",
      "0.5956585365853658\n",
      "Iteration:  80\n",
      "[0 4 4 ... 3 6 8] [0 9 9 ... 3 5 6]\n",
      "0.6234634146341463\n",
      "Iteration:  90\n",
      "[0 4 4 ... 3 6 8] [0 9 9 ... 3 5 6]\n",
      "0.6469756097560976\n",
      "Iteration:  100\n",
      "[0 4 4 ... 3 6 8] [0 9 9 ... 3 5 6]\n",
      "0.6686585365853659\n",
      "Iteration:  110\n",
      "[0 4 4 ... 3 6 8] [0 9 9 ... 3 5 6]\n",
      "0.6865365853658537\n",
      "Iteration:  120\n",
      "[0 4 4 ... 3 6 8] [0 9 9 ... 3 5 6]\n",
      "0.7026341463414634\n",
      "Iteration:  130\n",
      "[0 4 4 ... 3 6 8] [0 9 9 ... 3 5 6]\n",
      "0.7143658536585366\n",
      "Iteration:  140\n",
      "[0 4 4 ... 3 6 8] [0 9 9 ... 3 5 6]\n",
      "0.726609756097561\n",
      "Iteration:  150\n",
      "[0 4 4 ... 3 6 8] [0 9 9 ... 3 5 6]\n",
      "0.7363170731707317\n",
      "Iteration:  160\n",
      "[0 4 4 ... 3 5 8] [0 9 9 ... 3 5 6]\n",
      "0.7454146341463415\n",
      "Iteration:  170\n",
      "[0 4 4 ... 3 5 8] [0 9 9 ... 3 5 6]\n",
      "0.7539024390243902\n",
      "Iteration:  180\n",
      "[0 4 4 ... 3 5 8] [0 9 9 ... 3 5 6]\n",
      "0.7602439024390244\n",
      "Iteration:  190\n",
      "[0 4 4 ... 3 5 8] [0 9 9 ... 3 5 6]\n",
      "0.766390243902439\n",
      "Iteration:  200\n",
      "[0 4 9 ... 3 5 8] [0 9 9 ... 3 5 6]\n",
      "0.7729024390243903\n",
      "Iteration:  210\n",
      "[0 4 9 ... 3 5 8] [0 9 9 ... 3 5 6]\n",
      "0.778829268292683\n",
      "Iteration:  220\n",
      "[0 4 9 ... 3 5 8] [0 9 9 ... 3 5 6]\n",
      "0.7840487804878049\n",
      "Iteration:  230\n",
      "[0 4 9 ... 3 5 8] [0 9 9 ... 3 5 6]\n",
      "0.7892439024390244\n",
      "Iteration:  240\n",
      "[0 4 9 ... 3 5 6] [0 9 9 ... 3 5 6]\n",
      "0.7929756097560976\n",
      "Iteration:  250\n",
      "[0 4 9 ... 3 5 6] [0 9 9 ... 3 5 6]\n",
      "0.7976585365853659\n",
      "Iteration:  260\n",
      "[0 4 9 ... 3 5 6] [0 9 9 ... 3 5 6]\n",
      "0.8017560975609757\n",
      "Iteration:  270\n",
      "[0 4 9 ... 3 5 6] [0 9 9 ... 3 5 6]\n",
      "0.8049756097560976\n",
      "Iteration:  280\n",
      "[0 4 9 ... 3 5 6] [0 9 9 ... 3 5 6]\n",
      "0.8085121951219513\n",
      "Iteration:  290\n",
      "[0 4 9 ... 3 5 6] [0 9 9 ... 3 5 6]\n",
      "0.8116585365853659\n",
      "Iteration:  300\n",
      "[0 4 9 ... 3 5 6] [0 9 9 ... 3 5 6]\n",
      "0.8142926829268292\n",
      "Iteration:  310\n",
      "[0 4 9 ... 3 5 6] [0 9 9 ... 3 5 6]\n",
      "0.8171951219512195\n",
      "Iteration:  320\n",
      "[0 4 9 ... 3 5 6] [0 9 9 ... 3 5 6]\n",
      "0.819780487804878\n",
      "Iteration:  330\n",
      "[0 4 9 ... 3 5 6] [0 9 9 ... 3 5 6]\n",
      "0.8222926829268292\n",
      "Iteration:  340\n",
      "[0 4 9 ... 3 5 6] [0 9 9 ... 3 5 6]\n",
      "0.8249756097560975\n",
      "Iteration:  350\n",
      "[0 4 9 ... 3 5 6] [0 9 9 ... 3 5 6]\n",
      "0.8266341463414634\n",
      "Iteration:  360\n",
      "[0 4 9 ... 3 5 6] [0 9 9 ... 3 5 6]\n",
      "0.8285365853658536\n",
      "Iteration:  370\n",
      "[0 4 9 ... 3 5 6] [0 9 9 ... 3 5 6]\n",
      "0.8307073170731707\n",
      "Iteration:  380\n",
      "[0 4 9 ... 3 5 6] [0 9 9 ... 3 5 6]\n",
      "0.8325365853658536\n",
      "Iteration:  390\n",
      "[0 4 9 ... 3 5 6] [0 9 9 ... 3 5 6]\n",
      "0.8344878048780487\n",
      "Iteration:  400\n",
      "[0 4 9 ... 3 5 6] [0 9 9 ... 3 5 6]\n",
      "0.8361463414634146\n",
      "Iteration:  410\n",
      "[0 4 9 ... 3 5 6] [0 9 9 ... 3 5 6]\n",
      "0.8375365853658536\n",
      "Iteration:  420\n",
      "[0 4 9 ... 3 5 6] [0 9 9 ... 3 5 6]\n",
      "0.8394146341463414\n",
      "Iteration:  430\n",
      "[0 4 9 ... 3 5 6] [0 9 9 ... 3 5 6]\n",
      "0.8413658536585366\n",
      "Iteration:  440\n",
      "[0 4 9 ... 3 5 6] [0 9 9 ... 3 5 6]\n",
      "0.8428048780487805\n",
      "Iteration:  450\n",
      "[0 4 9 ... 3 5 6] [0 9 9 ... 3 5 6]\n",
      "0.8442195121951219\n",
      "Iteration:  460\n",
      "[0 4 9 ... 3 5 6] [0 9 9 ... 3 5 6]\n",
      "0.8454146341463414\n",
      "Iteration:  470\n",
      "[0 4 9 ... 3 5 6] [0 9 9 ... 3 5 6]\n",
      "0.846780487804878\n",
      "Iteration:  480\n",
      "[0 4 9 ... 3 5 6] [0 9 9 ... 3 5 6]\n",
      "0.8479024390243902\n",
      "Iteration:  490\n",
      "[0 4 9 ... 3 5 6] [0 9 9 ... 3 5 6]\n",
      "0.8489756097560975\n"
     ]
    }
   ],
   "source": [
    "W1, b1, W2, b2 = gradient_descent(X_train, Y_train, 0.10, 500)"
   ]
  },
  {
   "cell_type": "markdown",
   "metadata": {},
   "source": [
    "~85% accuracy on training set."
   ]
  },
  {
   "cell_type": "code",
   "execution_count": 10,
   "metadata": {},
   "outputs": [],
   "source": [
    "def make_predictions(X, W1, b1, W2, b2):\n",
    "    _, _, _, A2 = forward_prop(W1, b1, W2, b2, X)\n",
    "    predictions = get_predictions(A2)\n",
    "    return predictions\n",
    "\n",
    "def test_prediction(index, W1, b1, W2, b2):\n",
    "    current_image = X_train[:, index, None]\n",
    "    prediction = make_predictions(X_train[:, index, None], W1, b1, W2, b2)\n",
    "    label = Y_train[index]\n",
    "    print(\"Prediction: \", prediction)\n",
    "    print(\"Label: \", label)\n",
    "    \n",
    "    current_image = current_image.reshape((28, 28)) * 255\n",
    "    plt.gray()\n",
    "    plt.imshow(current_image, interpolation='nearest')\n",
    "    plt.show()"
   ]
  },
  {
   "cell_type": "markdown",
   "metadata": {},
   "source": [
    "Let's look at a couple of examples:"
   ]
  },
  {
   "cell_type": "code",
   "execution_count": 23,
   "metadata": {},
   "outputs": [
    {
     "name": "stdout",
     "output_type": "stream",
     "text": [
      "Prediction:  [0]\n",
      "Label:  0\n"
     ]
    },
    {
     "data": {
      "image/png": "[encoded data removed]",
      "text/plain": [
       "<Figure size 640x480 with 1 Axes>"
      ]
     },
     "metadata": {},
     "output_type": "display_data"
    },
    {
     "name": "stdout",
     "output_type": "stream",
     "text": [
      "Prediction:  [9]\n",
      "Label:  9\n"
     ]
    },
    {
     "data": {
      "image/png": "[encoded data removed]",
      "text/plain": [
       "<Figure size 640x480 with 1 Axes>"
      ]
     },
     "metadata": {},
     "output_type": "display_data"
    },
    {
     "name": "stdout",
     "output_type": "stream",
     "text": [
      "Prediction:  [8]\n",
      "Label:  9\n"
     ]
    },
    {
     "data": {
      "image/png": "[encoded data removed]",
      "text/plain": [
       "<Figure size 640x480 with 1 Axes>"
      ]
     },
     "metadata": {},
     "output_type": "display_data"
    },
    {
     "name": "stdout",
     "output_type": "stream",
     "text": [
      "Prediction:  [2]\n",
      "Label:  2\n"
     ]
    },
    {
     "data": {
      "image/png": "[encoded data removed]",
      "text/plain": [
       "<Figure size 640x480 with 1 Axes>"
      ]
     },
     "metadata": {},
     "output_type": "display_data"
    },
    {
     "name": "stdout",
     "output_type": "stream",
     "text": [
      "Prediction:  [2]\n",
      "Label:  2\n"
     ]
    },
    {
     "data": {
      "image/png": "[encoded data removed]",
      "text/plain": [
       "<Figure size 640x480 with 1 Axes>"
      ]
     },
     "metadata": {},
     "output_type": "display_data"
    }
   ],
   "source": [
    "test_prediction(0, W1, b1, W2, b2)\n",
    "test_prediction(2, W1, b1, W2, b2)\n",
    "test_prediction(3, W1, b1, W2, b2)\n",
    "test_prediction(7, W1, b1, W2, b2)\n",
    "test_prediction(5, W1, b1, W2, b2)"
   ]
  },
  {
   "cell_type": "markdown",
   "metadata": {},
   "source": [
    "Finally, let's find the accuracy on the dev set:"
   ]
  },
  {
   "cell_type": "code",
   "execution_count": 16,
   "metadata": {},
   "outputs": [
    {
     "name": "stdout",
     "output_type": "stream",
     "text": [
      "[4 0 6 2 0 1 3 5 3 9 0 1 7 0 1 5 7 7 2 9 8 5 6 1 6 9 4 1 2 1 6 1 1 1 0 2 6\n",
      " 6 0 4 4 1 8 9 1 1 4 5 9 8 1 9 3 8 4 4 9 1 6 8 0 1 0 8 7 6 9 8 9 3 0 2 3 8\n",
      " 7 8 6 4 4 3 9 8 8 1 5 2 3 6 3 3 6 8 6 5 7 2 1 9 7 9 8 2 9 0 0 4 5 9 1 2 4\n",
      " 6 2 6 4 9 8 6 4 7 6 6 1 2 3 4 3 3 2 1 2 0 7 0 9 7 8 2 6 2 5 0 0 2 0 3 2 3\n",
      " 3 8 4 0 8 1 2 9 7 1 2 7 1 0 6 8 3 0 0 2 8 1 9 6 2 8 4 6 3 1 4 0 4 9 0 1 8\n",
      " 1 4 9 1 8 9 8 9 8 5 7 3 5 6 3 1 6 7 4 4 8 8 3 1 8 3 9 7 0 3 3 4 4 3 9 5 3\n",
      " 2 4 9 0 9 6 8 3 7 7 9 6 5 8 3 5 8 5 6 6 5 2 4 6 7 9 2 2 9 9 1 1 4 5 4 6 6\n",
      " 4 1 3 6 7 8 9 2 1 5 3 7 5 9 1 2 0 6 8 1 5 1 5 1 3 3 2 3 7 1 8 2 4 8 8 9 4\n",
      " 3 3 0 5 1 2 1 0 0 0 2 3 8 2 3 7 6 7 1 8 8 8 0 6 6 4 9 1 4 9 5 1 4 8 0 9 2\n",
      " 5 9 8 3 1 5 9 7 8 8 1 3 0 9 1 8 4 6 6 4 9 9 9 1 3 0 7 0 7 7 7 1 7 0 8 5 5\n",
      " 6 1 6 7 2 6 3 6 0 3 1 2 4 7 4 8 1 8 8 1 2 8 0 2 3 2 9 9 3 6 6 0 7 3 2 8 4\n",
      " 6 3 1 8 8 0 1 2 3 2 1 8 1 5 9 6 2 9 9 6 7 7 8 0 3 2 9 4 0 5 1 3 1 8 2 0 1\n",
      " 6 6 3 8 1 7 8 0 1 0 7 7 6 1 1 4 6 1 3 4 8 7 6 4 1 5 9 5 4 1 9 0 4 8 8 1 4\n",
      " 2 2 1 7 8 2 0 5 2 8 4 1 1 5 5 2 2 0 8 3 2 4 8 8 9 5 8 7 1 0 5 4 9 5 2 2 1\n",
      " 9 0 2 5 4 4 8 9 0 8 5 7 6 1 1 9 1 6 3 5 8 6 3 1 4 0 3 9 1 8 8 8 1 3 6 1 9\n",
      " 8 9 2 6 5 4 2 6 6 8 2 7 1 8 8 7 9 4 6 8 5 4 1 2 7 8 2 0 1 3 2 0 8 4 6 9 8\n",
      " 0 3 9 9 4 8 6 6 3 8 6 8 8 4 0 8 3 9 5 3 6 6 6 5 9 9 3 3 8 8 7 8 7 9 9 8 3\n",
      " 6 3 2 1 6 5 6 0 3 9 2 1 6 8 7 6 7 6 9 1 1 3 2 9 1 6 6 9 1 2 4 9 2 4 4 9 1\n",
      " 9 1 0 2 1 6 7 5 6 9 0 6 4 6 0 6 2 3 1 0 7 9 1 8 1 9 5 9 8 5 1 6 5 2 7 2 6\n",
      " 6 0 6 3 6 8 6 3 6 3 6 0 7 0 4 0 3 9 6 7 4 1 0 0 2 7 5 5 7 5 6 0 3 1 5 9 4\n",
      " 1 2 9 5 2 0 2 4 8 3 5 3 9 0 3 6 2 4 2 3 4 5 7 0 3 1 9 9 4 3 0 6 5 2 4 3 6\n",
      " 1 7 4 2 9 8 5 0 6 3 5 9 0 2 3 6 6 7 0 9 3 9 3 2 9 8 1 4 7 3 6 3 0 4 4 3 9\n",
      " 2 9 0 7 1 0 3 5 5 7 6 9 0 2 5 2 3 5 3 5 7 5 1 3 8 6 8 1 3 2 2 6 9 3 1 2 9\n",
      " 4 1 9 4 9 3 3 4 1 0 9 7 1 8 3 3 4 4 4 5 7 5 9 6 9 7 1 3 1 8 7 3 1 5 7 1 3\n",
      " 8 6 4 4 9 7 8 9 9 1 7 3 7 3 0 8 3 0 7 9 1 5 4 4 9 1 8 6 6 6 9 6 8 5 3 2 6\n",
      " 4 3 2 6 2 3 8 1 2 0 8 2 4 7 1 1 3 3 0 7 2 7 1 4 6 1 5 3 8 3 5 3 8 8 9 9 2\n",
      " 6 3 7 6 7 6 3 8 6 6 7 1 0 2 2 4 2 9 6 1 7 7 8 7 6 2 7 2 4 6 9 3 3 0 6 4 1\n",
      " 9] [4 0 6 2 0 1 7 5 3 9 0 1 7 0 1 5 7 7 2 9 8 5 6 1 2 9 9 8 6 1 6 7 1 1 0 2 6\n",
      " 6 6 4 4 1 8 9 1 1 4 5 9 8 1 9 3 9 4 4 9 1 6 8 0 1 0 8 7 2 9 8 9 3 0 6 3 8\n",
      " 7 8 2 4 4 5 9 8 8 1 5 2 9 6 6 3 6 8 6 6 7 2 1 9 7 9 8 2 9 0 0 9 5 9 1 2 4\n",
      " 6 2 6 4 9 8 6 4 7 6 6 1 2 3 4 3 3 6 1 2 0 7 0 9 7 2 8 6 2 5 0 0 2 0 3 2 3\n",
      " 9 8 4 5 2 1 3 9 7 1 2 7 1 0 2 9 3 0 0 2 5 1 9 6 7 8 7 6 3 1 4 0 4 7 9 1 7\n",
      " 1 4 7 1 8 9 8 9 8 6 7 3 5 6 3 1 6 7 4 4 2 8 3 1 8 5 9 7 0 8 3 4 4 3 9 5 3\n",
      " 2 9 9 8 9 6 5 3 7 7 9 6 5 8 3 5 9 5 6 6 8 2 4 6 7 9 2 2 9 9 1 1 4 5 4 2 6\n",
      " 9 1 3 6 7 8 9 2 1 5 3 7 5 2 1 2 0 6 8 1 9 1 3 1 3 3 2 5 7 1 8 2 4 8 8 9 4\n",
      " 3 3 0 5 1 2 1 0 0 0 2 3 5 2 0 7 6 7 1 8 8 2 0 5 6 7 9 1 4 9 4 1 4 8 0 9 2\n",
      " 5 9 3 3 1 5 9 7 8 6 1 2 0 9 1 8 4 6 6 4 8 9 9 1 3 0 7 0 7 7 7 1 7 0 8 5 5\n",
      " 6 6 5 7 2 6 3 6 0 3 9 2 4 7 4 7 1 5 8 1 2 8 0 2 3 2 9 4 3 6 6 0 3 3 2 8 9\n",
      " 6 3 1 8 8 0 1 2 3 2 1 8 1 5 9 6 2 9 9 6 7 7 8 0 3 2 9 4 0 5 1 3 1 8 2 0 1\n",
      " 6 6 3 8 9 7 8 0 1 0 3 7 6 1 1 4 6 8 3 4 8 7 6 4 1 3 9 5 4 1 9 0 4 5 8 1 4\n",
      " 2 2 1 7 8 7 3 5 2 3 4 1 1 5 5 2 0 0 8 3 9 9 8 8 9 5 8 7 1 0 8 4 9 5 2 3 1\n",
      " 9 0 6 3 8 4 7 9 0 5 5 7 6 1 1 9 8 6 3 5 8 6 3 1 4 0 3 9 1 5 8 8 1 3 5 1 9\n",
      " 8 7 2 6 5 4 7 6 6 8 8 7 1 8 8 7 9 4 6 8 5 4 1 2 7 7 2 0 1 3 2 0 1 4 6 9 8\n",
      " 0 3 9 9 4 3 6 6 3 3 6 8 5 4 0 8 3 9 5 2 6 6 6 5 4 9 3 3 8 8 7 2 7 9 9 8 3\n",
      " 6 3 2 1 2 5 6 2 5 9 2 1 6 8 7 6 7 6 7 2 1 3 2 9 5 6 6 7 1 0 9 9 2 4 4 9 2\n",
      " 8 1 0 2 8 6 9 3 6 9 0 6 4 6 0 6 2 3 1 0 7 9 1 5 1 9 5 4 8 5 1 6 5 2 7 0 6\n",
      " 2 0 6 3 6 8 6 8 4 2 6 0 7 0 4 0 2 9 6 7 4 1 5 0 2 7 5 5 9 5 6 0 5 1 5 9 4\n",
      " 1 2 9 5 2 0 2 4 8 3 5 2 9 0 3 6 2 4 2 3 4 5 5 0 3 1 9 9 4 3 0 5 5 2 9 3 6\n",
      " 1 7 4 2 9 8 5 0 2 3 5 9 0 2 3 6 6 7 0 9 3 9 3 2 9 8 1 4 7 3 6 3 0 4 4 3 1\n",
      " 2 7 0 7 1 0 3 5 5 7 6 9 0 2 5 3 3 5 5 5 7 5 1 9 8 7 5 1 2 1 2 6 9 9 1 2 9\n",
      " 4 1 9 4 9 3 3 4 1 0 9 7 1 8 3 3 4 4 9 5 7 5 4 4 9 7 1 3 1 8 7 3 1 5 7 1 3\n",
      " 9 6 4 4 4 7 8 7 9 1 7 8 7 3 9 8 3 0 7 9 5 0 4 4 9 1 8 6 6 6 4 6 8 5 3 3 6\n",
      " 4 3 2 6 2 3 8 1 2 0 6 2 4 7 1 1 3 3 0 7 2 9 1 4 6 1 5 3 8 3 3 8 8 1 9 9 2\n",
      " 6 8 7 6 7 6 3 5 6 6 7 1 0 2 4 4 2 9 2 1 7 7 8 7 6 2 7 2 7 2 9 3 3 0 6 4 1\n",
      " 9]\n"
     ]
    },
    {
     "data": {
      "text/plain": [
       "np.float64(0.84)"
      ]
     },
     "execution_count": 16,
     "metadata": {},
     "output_type": "execute_result"
    }
   ],
   "source": [
    "dev_predictions = make_predictions(X_dev, W1, b1, W2, b2)\n",
    "get_accuracy(dev_predictions, Y_dev)"
   ]
  },
  {
   "cell_type": "markdown",
   "metadata": {},
   "source": [
    "Still 84% accuracy, so our model generalized from the training data pretty well."
   ]
  }
 ],
 "metadata": {
  "kernelspec": {
   "display_name": "Python 3",
   "language": "python",
   "name": "python3"
  },
  "language_info": {
   "codemirror_mode": {
    "name": "ipython",
    "version": 3
   },
   "file_extension": ".py",
   "mimetype": "text/x-python",
   "name": "python",
   "nbconvert_exporter": "python",
   "pygments_lexer": "ipython3",
   "version": "3.12.4"
  }
 },
 "nbformat": 4,
 "nbformat_minor": 2
}
